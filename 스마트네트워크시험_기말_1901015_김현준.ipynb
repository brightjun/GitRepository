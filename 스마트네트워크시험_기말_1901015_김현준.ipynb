{
  "nbformat": 4,
  "nbformat_minor": 0,
  "metadata": {
    "colab": {
      "name": "스마트네트워크시험 기말 1901015 김현준",
      "provenance": [],
      "collapsed_sections": [],
      "include_colab_link": true
    },
    "kernelspec": {
      "name": "python3",
      "display_name": "Python 3"
    }
  },
  "cells": [
    {
      "cell_type": "markdown",
      "metadata": {
        "id": "view-in-github",
        "colab_type": "text"
      },
      "source": [
        "<a href=\"https://colab.research.google.com/github/brightjun/GitRepository/blob/main/%EC%8A%A4%EB%A7%88%ED%8A%B8%EB%84%A4%ED%8A%B8%EC%9B%8C%ED%81%AC%EC%8B%9C%ED%97%98_%EA%B8%B0%EB%A7%90_1901015_%EA%B9%80%ED%98%84%EC%A4%80.ipynb\" target=\"_parent\"><img src=\"https://colab.research.google.com/assets/colab-badge.svg\" alt=\"Open In Colab\"/></a>"
      ]
    },
    {
      "cell_type": "markdown",
      "metadata": {
        "id": "ujtBvwYSSgxo"
      },
      "source": [
        "1-1. 오류 메시지가 무엇인지 설명하고 문제를 해결하시오(5점)"
      ]
    },
    {
      "cell_type": "code",
      "metadata": {
        "id": "yb4qPKO4Sezu",
        "colab": {
          "base_uri": "https://localhost:8080/"
        },
        "outputId": "4dfffada-5aef-42c1-f89b-c73a574b3469"
      },
      "source": [
        "# 답 : (SyntaxError : 잘못된 문법, EOL : 다른 종류의 따옴표로 문자열을 만든경우, 혹은 열거나 닫지 않은 경우)\r\n",
        "print('hello world')"
      ],
      "execution_count": 4,
      "outputs": [
        {
          "output_type": "stream",
          "text": [
            "hello world\n"
          ],
          "name": "stdout"
        }
      ]
    },
    {
      "cell_type": "markdown",
      "metadata": {
        "id": "ldTfNFx-S_92"
      },
      "source": [
        "1-2. 오류 메시지가 무엇인지 설명하고 문제를 해결하시오(5점)"
      ]
    },
    {
      "cell_type": "code",
      "metadata": {
        "id": "urVg-KbpS99A",
        "colab": {
          "base_uri": "https://localhost:8080/"
        },
        "outputId": "418e3561-c30f-4d4b-979c-856209deb698"
      },
      "source": [
        "# 답 : (     IndentationError : 들여쓰기가 잘못됨 ,  NameError: name 'a' is not defined 'a'가 지정되지 않음 )\n",
        "a = \"hello\"\n",
        "print(a)"
      ],
      "execution_count": 5,
      "outputs": [
        {
          "output_type": "stream",
          "text": [
            "hello\n"
          ],
          "name": "stdout"
        }
      ]
    },
    {
      "cell_type": "markdown",
      "metadata": {
        "id": "a8RouDMHTg1U"
      },
      "source": [
        "1-3. 오류 메시지가 무엇인지 설명하고 정확한 구문을 작성하시오(5점)"
      ]
    },
    {
      "cell_type": "code",
      "metadata": {
        "id": "6-VmFgdETkCG",
        "colab": {
          "base_uri": "https://localhost:8080/"
        },
        "outputId": "8f06421c-dcd3-42e0-f8a8-8b33975659a5"
      },
      "source": [
        "# 답 : (    IndentationError : 들여쓰기가 잘못됨.   )\n",
        "if True:\n",
        "    print('hello')\n",
        "    print('22')"
      ],
      "execution_count": 6,
      "outputs": [
        {
          "output_type": "stream",
          "text": [
            "hello\n",
            "22\n"
          ],
          "name": "stdout"
        }
      ]
    },
    {
      "cell_type": "markdown",
      "metadata": {
        "id": "0XDfBRoIfCEI"
      },
      "source": [
        "1-4 오류 메시지가 무엇인지 설명하고 정확한 구문을 작성하시오(5점)"
      ]
    },
    {
      "cell_type": "code",
      "metadata": {
        "id": "dvISk2fSTn-5",
        "colab": {
          "base_uri": "https://localhost:8080/"
        },
        "outputId": "af22160f-9d46-4f6b-bab6-2d626d4f653d"
      },
      "source": [
        "# 답 : (   NameError os 가 정의되지 않음. os 모듈을 추가하지 않아 오류가 발생함.  )\n",
        "import os\n",
        "os.listdir()"
      ],
      "execution_count": 7,
      "outputs": [
        {
          "output_type": "execute_result",
          "data": {
            "text/plain": [
              "['.config', 'sample_data']"
            ]
          },
          "metadata": {
            "tags": []
          },
          "execution_count": 7
        }
      ]
    },
    {
      "cell_type": "markdown",
      "metadata": {
        "id": "Vb_eiGPBfKnz"
      },
      "source": [
        "1-5 오류 메시지가 무엇인지 설명하고 정확한 구문을 작성하시오(5점)"
      ]
    },
    {
      "cell_type": "code",
      "metadata": {
        "id": "q-j1ka5fe-qf",
        "colab": {
          "base_uri": "https://localhost:8080/"
        },
        "outputId": "1099a577-3991-43fb-b40c-09e2bf0e3e1a"
      },
      "source": [
        "# 답 : (      ValueError: invalid literal for int() with base 10  => 형변환 오류, \",\" 때문에 string-> float 변경 불가.   )\n",
        "a = '5.4321'\n",
        "float(a)"
      ],
      "execution_count": 16,
      "outputs": [
        {
          "output_type": "execute_result",
          "data": {
            "text/plain": [
              "5.4321"
            ]
          },
          "metadata": {
            "tags": []
          },
          "execution_count": 16
        }
      ]
    },
    {
      "cell_type": "markdown",
      "metadata": {
        "id": "zvI1itWDf_B9"
      },
      "source": [
        "2-1. 두 수를 더해 결과를 반환하는 함수이다. 빈칸을 채우시오.(5점)"
      ]
    },
    {
      "cell_type": "code",
      "metadata": {
        "id": "7rtPJviDfafv",
        "colab": {
          "base_uri": "https://localhost:8080/"
        },
        "outputId": "bf71f501-6667-41b1-fc92-1efc141bc09c"
      },
      "source": [
        "def sum(v1, v2):\n",
        "    result = 0\n",
        "    result = v1 + v2\n",
        "    return result\n",
        "print(sum(10,20))"
      ],
      "execution_count": 33,
      "outputs": [
        {
          "output_type": "stream",
          "text": [
            "30\n"
          ],
          "name": "stdout"
        }
      ]
    },
    {
      "cell_type": "markdown",
      "metadata": {
        "id": "_HY9EyIkgQw1"
      },
      "source": [
        "2-2. 전달받은 매개변수의 숫자와 관계없이 모든 매개변수를 곱하는 함수이다. 빈칸을 채우시오.(5점)\n"
      ]
    },
    {
      "cell_type": "code",
      "metadata": {
        "id": "L54szxRwgQGJ",
        "colab": {
          "base_uri": "https://localhost:8080/"
        },
        "outputId": "0dc97c67-caeb-4590-d9d3-5ea22950f78b"
      },
      "source": [
        "def multiply(*var):\n",
        "    result = 1\n",
        "    for num in var:\n",
        "        result = result * num\n",
        "    return result\n",
        "print(multiply(2,3,4))"
      ],
      "execution_count": 54,
      "outputs": [
        {
          "output_type": "stream",
          "text": [
            "24\n"
          ],
          "name": "stdout"
        }
      ]
    },
    {
      "cell_type": "markdown",
      "metadata": {
        "id": "yWnCQhBTh6N2"
      },
      "source": [
        "3-1. if 조건문을 사용해서 양수와 음수 및 0을 판별하는 프로그램을 만들어 보세요.(5점)"
      ]
    },
    {
      "cell_type": "code",
      "metadata": {
        "id": "deYiX-BMg5ws",
        "colab": {
          "base_uri": "https://localhost:8080/"
        },
        "outputId": "54bdacca-73cf-41dc-cbcf-fe44e06f956e"
      },
      "source": [
        "num = int(input(\"숫자 입력\"))\r\n",
        "if num >0:\r\n",
        "  print(\"%d은(는) 양수 입니다.\"%num)\r\n",
        "elif num <0:\r\n",
        "  print(\"%d은(는) 음수 입니다.\"%num)\r\n",
        "else:\r\n",
        "  print(\"%d은(는) 0 입니다.\"%num)"
      ],
      "execution_count": 44,
      "outputs": [
        {
          "output_type": "stream",
          "text": [
            "숫자 입력5\n",
            "5은(는) 양수 입니다.\n"
          ],
          "name": "stdout"
        }
      ]
    },
    {
      "cell_type": "markdown",
      "metadata": {
        "id": "Aw4Iuhqch8nc"
      },
      "source": [
        "3-2. while문을 사용해서 (*)을 표시하는 프로그램을 만들어 보세요.(5점)\n"
      ]
    },
    {
      "cell_type": "code",
      "metadata": {
        "id": "7d15bsj5iDMh",
        "colab": {
          "base_uri": "https://localhost:8080/"
        },
        "outputId": "e8251432-b53f-4882-8806-364bb2162b9f"
      },
      "source": [
        "# 출력 결과\n",
        "# *******\n",
        "# ******\n",
        "# *****\n",
        "# ****\n",
        "# ***\n",
        "# **\n",
        "# *\n",
        "\n",
        "i = 7\n",
        "while i>0:\n",
        "    print(\"*\"*i)\n",
        "    i -= 1"
      ],
      "execution_count": 46,
      "outputs": [
        {
          "output_type": "stream",
          "text": [
            "*******\n",
            "******\n",
            "*****\n",
            "****\n",
            "***\n",
            "**\n",
            "*\n"
          ],
          "name": "stdout"
        }
      ]
    },
    {
      "cell_type": "markdown",
      "metadata": {
        "id": "ofpvw-4YiOJe"
      },
      "source": [
        "3-3. while문과 for문 중첩을 사용해서 구구단 프로그램을 만들어 보겠습니다. 전체를 출력하는 구구단이 아니라 1번을 입력하면 홀수 단(3, 5, 7, 9) 2번을 입력하면 짝수 단(2, 4, 6, 8) 3번을 입력하면 종료 그 외의 숫자를 입력하면 처음부터 다시 입력되게 하는 프로그램을 만들어 봅니다.(5점)"
      ]
    },
    {
      "cell_type": "code",
      "metadata": {
        "id": "jk2IrLsYiQmk"
      },
      "source": [
        "while True:\r\n",
        "  num = int(input(\"숫자 입력 : \"))\r\n",
        "  if num == 1:\r\n",
        "    for i in range(2,10):\r\n",
        "      if i%2 ==1:\r\n",
        "        print(\"%d단\"%i)\r\n",
        "        for j in range(1,10):\r\n",
        "          print(\"%d*%d=%d\"%(i,j,i*j))\r\n",
        "  elif num == 2:\r\n",
        "    for i in range(2,10):\r\n",
        "      if i%2 ==0:\r\n",
        "        print(\"%d단\"%i)\r\n",
        "        for j in range(1,10):\r\n",
        "          print(\"%d*%d=%d\"%(i,j,i*j))\r\n",
        "  elif num == 3:\r\n",
        "    print(\" 종료. \")\r\n",
        "    break\r\n",
        "  else:\r\n",
        "    print(\" 다시 입력.\")\r\n",
        "    continue"
      ],
      "execution_count": null,
      "outputs": []
    },
    {
      "cell_type": "markdown",
      "metadata": {
        "id": "tJkVKpSXomLY"
      },
      "source": [
        "3-4. 메일주소의 도메인 찾아 출력하시오 (5점)"
      ]
    },
    {
      "cell_type": "code",
      "metadata": {
        "id": "vCHvu50konRm",
        "colab": {
          "base_uri": "https://localhost:8080/"
        },
        "outputId": "2fa5928c-3d01-40ac-ef0e-3df0edf86eb4"
      },
      "source": [
        "a = 'spartacodingclub@gmail.com'\n",
        "\n",
        "#채워야하는 함수\n",
        "def get_mail(s):\n",
        "    result = s.split('@')\n",
        "    result = result[-1]\n",
        "    return result\n",
        "#결과값 gmail.com이 나와야 정답입니다!\n",
        "print(get_mail(a))"
      ],
      "execution_count": 56,
      "outputs": [
        {
          "output_type": "stream",
          "text": [
            "gmail.com\n"
          ],
          "name": "stdout"
        }
      ]
    },
    {
      "cell_type": "markdown",
      "metadata": {
        "id": "zz48zI5_0qGR"
      },
      "source": [
        "4.1 파이썬의 socket 모듈을 활용해 'www.kbu.ac.kr'의 문자열 주소와 별칭, IP 주소를 알아 내시오(5점)"
      ]
    },
    {
      "cell_type": "code",
      "metadata": {
        "id": "OZVZGo38bRu7",
        "colab": {
          "base_uri": "https://localhost:8080/"
        },
        "outputId": "a8293e81-6eba-460a-cfa9-f2198e03a64f"
      },
      "source": [
        "import socket\r\n",
        "HOSTS = [\"www.kbu.ac.kr\"]\r\n",
        "\r\n",
        "for host in HOSTS:\r\n",
        "  hostname, aliaslist, ipaddlist = socket.gethostbyname_ex(host)\r\n",
        "  print('Hostname : ', hostname)\r\n",
        "  print('Aliases : ', aliaslist)\r\n",
        "  print('Addresses : ', ipaddlist)"
      ],
      "execution_count": 62,
      "outputs": [
        {
          "output_type": "stream",
          "text": [
            "Hostname :  main.kbu.ac.kr\n",
            "Aliases :  ['www.kbu.ac.kr']\n",
            "Addresses :  ['220.90.96.15']\n"
          ],
          "name": "stdout"
        }
      ]
    },
    {
      "cell_type": "markdown",
      "metadata": {
        "id": "tn-v5fdIbSbr"
      },
      "source": [
        "4.2 파이썬의 socket 모듈을 활용해 'www.kbu.ac.kr'의 주소유형, 소켓 타입, 프로토콜 타입,도메인별칭, 소켓주소를 알아 내시오(5점)"
      ]
    },
    {
      "cell_type": "code",
      "metadata": {
        "id": "v7PV1eqeecTT",
        "colab": {
          "base_uri": "https://localhost:8080/",
          "height": 346
        },
        "outputId": "0f75e17d-2efd-415a-c0fa-cee8f887a8ab"
      },
      "source": [
        "import socket\r\n",
        "HOSTS = \"www.kbu.ac.kr\"\r\n",
        "\r\n",
        "def get_constans(prefix):\r\n",
        "  return (dict((getattr(socket,n),n)) \r\n",
        "  for i in dir(socket) \r\n",
        "  if n.startswit(prefix))\r\n",
        "\r\n",
        "families = get_constans('AF_')\r\n",
        "types = get_constans('SOCK_')\r\n",
        "protocols = get_constans('IPPROTO_')\r\n",
        "\r\n",
        "ressponses = socket.getaddrinfo(host='www.kbu.ac.kr',\r\n",
        "                               port='http',\r\n",
        "                               family=socket.AF_INET,\r\n",
        "                               type=socket.SOCK_STREAM,\r\n",
        "                               proto=socket.IPPROTO_TCP,\r\n",
        "                               flags=socket.AI_CANONNAME,)\r\n",
        "\r\n",
        "for response in socket.getaddrinfo(HOSTS, \"http\"):\r\n",
        "  family, sockettype, proto, canonname, sockaddr = response\r\n",
        "  print('Family : ', families[family])\r\n",
        "  print('Type : ', types[sockettype])\r\n",
        "  print('Protocol : ', protocols[proto])\r\n",
        "  print('Canonical name : ', canonname)\r\n",
        "  print('Socket address : ', sockaddr)"
      ],
      "execution_count": 67,
      "outputs": [
        {
          "output_type": "error",
          "ename": "gaierror",
          "evalue": "ignored",
          "traceback": [
            "\u001b[0;31m---------------------------------------------------------------------------\u001b[0m",
            "\u001b[0;31mgaierror\u001b[0m                                  Traceback (most recent call last)",
            "\u001b[0;32m<ipython-input-67-b7dcd54cf8ec>\u001b[0m in \u001b[0;36m<module>\u001b[0;34m()\u001b[0m\n\u001b[1;32m     16\u001b[0m                                \u001b[0mtype\u001b[0m\u001b[0;34m=\u001b[0m\u001b[0msocket\u001b[0m\u001b[0;34m.\u001b[0m\u001b[0mSOCK_STREAM\u001b[0m\u001b[0;34m,\u001b[0m\u001b[0;34m\u001b[0m\u001b[0;34m\u001b[0m\u001b[0m\n\u001b[1;32m     17\u001b[0m                                \u001b[0mproto\u001b[0m\u001b[0;34m=\u001b[0m\u001b[0msocket\u001b[0m\u001b[0;34m.\u001b[0m\u001b[0mIPPROTO_TCP\u001b[0m\u001b[0;34m,\u001b[0m\u001b[0;34m\u001b[0m\u001b[0;34m\u001b[0m\u001b[0m\n\u001b[0;32m---> 18\u001b[0;31m                                flags=socket.AI_CANONNAME,)\n\u001b[0m\u001b[1;32m     19\u001b[0m \u001b[0;34m\u001b[0m\u001b[0m\n\u001b[1;32m     20\u001b[0m \u001b[0;32mfor\u001b[0m \u001b[0mresponse\u001b[0m \u001b[0;32min\u001b[0m \u001b[0msocket\u001b[0m\u001b[0;34m.\u001b[0m\u001b[0mgetaddrinfo\u001b[0m\u001b[0;34m(\u001b[0m\u001b[0mHOSTS\u001b[0m\u001b[0;34m,\u001b[0m \u001b[0;34m\"http\"\u001b[0m\u001b[0;34m)\u001b[0m\u001b[0;34m:\u001b[0m\u001b[0;34m\u001b[0m\u001b[0;34m\u001b[0m\u001b[0m\n",
            "\u001b[0;32m/usr/lib/python3.6/socket.py\u001b[0m in \u001b[0;36mgetaddrinfo\u001b[0;34m(host, port, family, type, proto, flags)\u001b[0m\n\u001b[1;32m    743\u001b[0m     \u001b[0;31m# and socket type values to enum constants.\u001b[0m\u001b[0;34m\u001b[0m\u001b[0;34m\u001b[0m\u001b[0;34m\u001b[0m\u001b[0m\n\u001b[1;32m    744\u001b[0m     \u001b[0maddrlist\u001b[0m \u001b[0;34m=\u001b[0m \u001b[0;34m[\u001b[0m\u001b[0;34m]\u001b[0m\u001b[0;34m\u001b[0m\u001b[0;34m\u001b[0m\u001b[0m\n\u001b[0;32m--> 745\u001b[0;31m     \u001b[0;32mfor\u001b[0m \u001b[0mres\u001b[0m \u001b[0;32min\u001b[0m \u001b[0m_socket\u001b[0m\u001b[0;34m.\u001b[0m\u001b[0mgetaddrinfo\u001b[0m\u001b[0;34m(\u001b[0m\u001b[0mhost\u001b[0m\u001b[0;34m,\u001b[0m \u001b[0mport\u001b[0m\u001b[0;34m,\u001b[0m \u001b[0mfamily\u001b[0m\u001b[0;34m,\u001b[0m \u001b[0mtype\u001b[0m\u001b[0;34m,\u001b[0m \u001b[0mproto\u001b[0m\u001b[0;34m,\u001b[0m \u001b[0mflags\u001b[0m\u001b[0;34m)\u001b[0m\u001b[0;34m:\u001b[0m\u001b[0;34m\u001b[0m\u001b[0;34m\u001b[0m\u001b[0m\n\u001b[0m\u001b[1;32m    746\u001b[0m         \u001b[0maf\u001b[0m\u001b[0;34m,\u001b[0m \u001b[0msocktype\u001b[0m\u001b[0;34m,\u001b[0m \u001b[0mproto\u001b[0m\u001b[0;34m,\u001b[0m \u001b[0mcanonname\u001b[0m\u001b[0;34m,\u001b[0m \u001b[0msa\u001b[0m \u001b[0;34m=\u001b[0m \u001b[0mres\u001b[0m\u001b[0;34m\u001b[0m\u001b[0;34m\u001b[0m\u001b[0m\n\u001b[1;32m    747\u001b[0m         addrlist.append((_intenum_converter(af, AddressFamily),\n",
            "\u001b[0;31mgaierror\u001b[0m: [Errno -8] Servname not supported for ai_socktype"
          ]
        }
      ]
    },
    {
      "cell_type": "markdown",
      "metadata": {
        "id": "TdzBji1ifPD1"
      },
      "source": [
        "4.3 다음은 TCP 소켓을 사용한 에코 서버 프로그램의 코딩입니다. 이 프로그램은 클라이언트가 보내온 메시지를 그대로 다시 되돌려 보내는 프로그램으로 한명의 클라이언트만 연속적으로 서비스합니다. 코딩을 완성하시오(5점)\r\n",
        "* 따로 실행하지 않아도 됩니다!!"
      ]
    },
    {
      "cell_type": "code",
      "metadata": {
        "id": "fECM_P3jnJEf",
        "colab": {
          "base_uri": "https://localhost:8080/",
          "height": 229
        },
        "outputId": "4aefd6d9-9c19-482d-d7fa-e6cdc98c31cc"
      },
      "source": [
        "from socket  import *\r\n",
        "import socket\r\n",
        "port = 2500\r\n",
        "BUFSIZE = 1024 \r\n",
        "\r\n",
        "sock= socket(socket.AF_INET, socket.SOCK_STREAM)\r\n",
        "sock.bind(('', port)) # 자신의 주소 사용\r\n",
        "sock.listen(1) # 최대 대기 클라이언트 수\r\n",
        "print(\"Waiting for client ...\")\r\n",
        "\r\n",
        "# 클라이언트의 연결 요청을 받는다.\r\n",
        "c_sock, (r_host, r_port) = socket.accept()\r\n",
        "print(\"connected by\", r_host, r_port)\r\n",
        "\r\n",
        "while True:\r\n",
        "    # 상대방 메시지 수신\r\n",
        "    data = c_sock.recv(BUFSIZE)\r\n",
        "    if not data: # 연결이 종료되었으면\r\n",
        "        break\r\n",
        "    print(\"Recevied message:\", data.decode())\r\n",
        "\r\n",
        "    # 수신 메시지를 다시 전송\r\n",
        "    c_sock.send(data)\r\n",
        "\r\n",
        "c_sock.close()\r\n",
        "        "
      ],
      "execution_count": 68,
      "outputs": [
        {
          "output_type": "error",
          "ename": "TypeError",
          "evalue": "ignored",
          "traceback": [
            "\u001b[0;31m---------------------------------------------------------------------------\u001b[0m",
            "\u001b[0;31mTypeError\u001b[0m                                 Traceback (most recent call last)",
            "\u001b[0;32m<ipython-input-68-38996d216e7b>\u001b[0m in \u001b[0;36m<module>\u001b[0;34m()\u001b[0m\n\u001b[1;32m      4\u001b[0m \u001b[0mBUFSIZE\u001b[0m \u001b[0;34m=\u001b[0m \u001b[0;36m1024\u001b[0m\u001b[0;34m\u001b[0m\u001b[0;34m\u001b[0m\u001b[0m\n\u001b[1;32m      5\u001b[0m \u001b[0;34m\u001b[0m\u001b[0m\n\u001b[0;32m----> 6\u001b[0;31m \u001b[0msock\u001b[0m\u001b[0;34m=\u001b[0m \u001b[0msocket\u001b[0m\u001b[0;34m(\u001b[0m\u001b[0msocket\u001b[0m\u001b[0;34m.\u001b[0m\u001b[0mAF_INET\u001b[0m\u001b[0;34m,\u001b[0m \u001b[0msocket\u001b[0m\u001b[0;34m.\u001b[0m\u001b[0mSOCK_STREAM\u001b[0m\u001b[0;34m)\u001b[0m\u001b[0;34m\u001b[0m\u001b[0;34m\u001b[0m\u001b[0m\n\u001b[0m\u001b[1;32m      7\u001b[0m \u001b[0msock\u001b[0m\u001b[0;34m.\u001b[0m\u001b[0mbind\u001b[0m\u001b[0;34m(\u001b[0m\u001b[0;34m(\u001b[0m\u001b[0;34m''\u001b[0m\u001b[0;34m,\u001b[0m \u001b[0mport\u001b[0m\u001b[0;34m)\u001b[0m\u001b[0;34m)\u001b[0m \u001b[0;31m# 자신의 주소 사용\u001b[0m\u001b[0;34m\u001b[0m\u001b[0;34m\u001b[0m\u001b[0m\n\u001b[1;32m      8\u001b[0m \u001b[0msock\u001b[0m\u001b[0;34m.\u001b[0m\u001b[0mlisten\u001b[0m\u001b[0;34m(\u001b[0m\u001b[0;36m1\u001b[0m\u001b[0;34m)\u001b[0m \u001b[0;31m# 최대 대기 클라이언트 수\u001b[0m\u001b[0;34m\u001b[0m\u001b[0;34m\u001b[0m\u001b[0m\n",
            "\u001b[0;31mTypeError\u001b[0m: 'module' object is not callable"
          ]
        }
      ]
    },
    {
      "cell_type": "markdown",
      "metadata": {
        "id": "SVSBC7KvgFiZ"
      },
      "source": [
        "4.4 아래 이름과 생년월일 테이블을 이용하여 이름을 수신하면 학번을 전송하는 서버 프로그램의 코딩을 완성하시오 (5점)\r\n",
        "\r\n",
        "table = {'진':19921204, '슈가':19930309, '제이홉':19940218, '뷔':19951230}\r\n",
        "* 따로 실행하지 않아도 됩니다!!"
      ]
    },
    {
      "cell_type": "code",
      "metadata": {
        "id": "U-TjyLsogE8q"
      },
      "source": [
        "import socket\r\n",
        "\r\n",
        "table = \r\n",
        "\r\n",
        "s = socket.socket() # AF_INET, SOCK_STREAM\r\n",
        "address = ('', 2500)\r\n",
        "s.bind(address)\r\n",
        "s.listen(1)\r\n",
        "print(\"Waiting...\")\r\n",
        "\r\n",
        "c_socket, c_addr =s.accept()\r\n",
        "print('connection from', c_addr)\r\n",
        "while True:\r\n",
        "    data = c_socket.recv(1024).decode() # 요청 수신\r\n",
        "    try :\r\n",
        "        resp = table[data] #데이터를 key로 사용하여 values를 가져온다.\r\n",
        "    except:\r\n",
        "        c_socket.send(\"try again\".encode()) # 오류가 있을 때\r\n",
        "    else:\r\n",
        "        c_socket.send(resp.encode()) # 변환 값을 전송"
      ],
      "execution_count": null,
      "outputs": []
    },
    {
      "cell_type": "markdown",
      "metadata": {
        "id": "jiALNLwVh-NJ"
      },
      "source": [
        "5.1 urlparse() 함수를 사용하여 'www.kbu.ac.kr'의 URL을 분해하여 다음 각 요소를 출력하시오 (5점)"
      ]
    },
    {
      "cell_type": "code",
      "metadata": {
        "id": "z-fZWitiiHb1",
        "colab": {
          "base_uri": "https://localhost:8080/"
        },
        "outputId": "49931e38-88ed-4e1d-c08e-4b29c16c13e8"
      },
      "source": [
        "from urllib import parse\r\n",
        "url = \"www.kbu.ac.kr\"\r\n",
        "\r\n",
        "p_url = parse.urlparse(url)\r\n",
        "print('scheme : ', p_url.scheme)\r\n",
        "print('netloc : ', p_url.netloc)\r\n",
        "print('path : ', p_url.path)\r\n",
        "print('path params : ', p_url.params)\r\n",
        "print('query : ', p_url.query)\r\n",
        "print('fragment', p_url.fragment)"
      ],
      "execution_count": 81,
      "outputs": [
        {
          "output_type": "stream",
          "text": [
            "scheme :  \n",
            "netloc :  \n",
            "path :  www.kbu.ac.kr\n",
            "path params :  \n",
            "query :  \n",
            "fragment \n"
          ],
          "name": "stdout"
        }
      ]
    },
    {
      "cell_type": "markdown",
      "metadata": {
        "id": "b5sD5WOajpXi"
      },
      "source": [
        "5.2 웹브라우저에서 요청을 받아 처리하는 간단한 HTTP GET 서버를 구현하는 코딩입니다. GET request를 받아 query가 \"led=on\"이면 \"LED is ON\"을 전송하고 \"led=off\"이면 \"LED is OFF\"를 전송하는 서버 프로그램입니다. 코드를 완성하시오(5점)\r\n",
        "* 따로 실행하지 않아도 됩니다!!"
      ]
    },
    {
      "cell_type": "code",
      "metadata": {
        "id": "rs_EpHxZj1Gu",
        "colab": {
          "base_uri": "https://localhost:8080/",
          "height": 363
        },
        "outputId": "09a5a1c5-b349-4f1b-bdf0-e4d91cdce7a6"
      },
      "source": [
        "from http.server import HTTPSERVER, BaseHTTPRequestHandler\r\n",
        "from urllib import parse\r\n",
        "\r\n",
        "def query_parse(query):\r\n",
        "    a = query.split(\"&\")\r\n",
        "    temp = []\r\n",
        "    for item in a:\r\n",
        "        temp.append(item.split(\"=\"))\r\n",
        "    for i in range(len(temp)):\r\n",
        "        if len(temp[i]) ==i:\r\n",
        "            temp[i].append('')\r\n",
        "    \r\n",
        "    return dict(temp)\r\n",
        "\r\n",
        "class SimpleHTTPRequestHandler(BaseHTTPRequestHandler):\r\n",
        "    def do_GET(self):\r\n",
        "        parsed_path = parse.urlparse(self.path)\r\n",
        "        msg = parsed_path.query\r\n",
        "        if msg == '':\r\n",
        "            return\r\n",
        "\r\n",
        "        parsed_query = query_parse(msg)\r\n",
        "        resp = \"Fault\"\r\n",
        "        try:\r\n",
        "            if parsed_query[\"led\"] == \"on\":\r\n",
        "                resp = \"LED is ON\"\r\n",
        "            elif parsed_query[\"led\"] == \"off\":\r\n",
        "                resp = \"LED is OFF\"\r\n",
        "        except:\r\n",
        "            pass\r\n",
        "\r\n",
        "        self.send_response(200)\r\n",
        "        self.send_header('Content-Type','text/plain; charset=utf-8')\r\n",
        "        self.end_headers()\r\n",
        "        self.wfile.write(resp.encode())\r\n",
        "\r\n",
        "httpd = HTTPServer(('localhost',8080), SimpleHTTPRequestHandler)\r\n",
        "httpd.serve_forever()\r\n",
        "\r\n",
        "        "
      ],
      "execution_count": 83,
      "outputs": [
        {
          "output_type": "error",
          "ename": "ImportError",
          "evalue": "ignored",
          "traceback": [
            "\u001b[0;31m---------------------------------------------------------------------------\u001b[0m",
            "\u001b[0;31mImportError\u001b[0m                               Traceback (most recent call last)",
            "\u001b[0;32m<ipython-input-83-62f11fbeb0a9>\u001b[0m in \u001b[0;36m<module>\u001b[0;34m()\u001b[0m\n\u001b[0;32m----> 1\u001b[0;31m \u001b[0;32mfrom\u001b[0m \u001b[0mhttp\u001b[0m\u001b[0;34m.\u001b[0m\u001b[0mserver\u001b[0m \u001b[0;32mimport\u001b[0m \u001b[0mHTTPSERVER\u001b[0m\u001b[0;34m,\u001b[0m \u001b[0mBaseHTTPRequestHandler\u001b[0m\u001b[0;34m\u001b[0m\u001b[0;34m\u001b[0m\u001b[0m\n\u001b[0m\u001b[1;32m      2\u001b[0m \u001b[0;32mfrom\u001b[0m \u001b[0murllib\u001b[0m \u001b[0;32mimport\u001b[0m \u001b[0mparse\u001b[0m\u001b[0;34m\u001b[0m\u001b[0;34m\u001b[0m\u001b[0m\n\u001b[1;32m      3\u001b[0m \u001b[0;34m\u001b[0m\u001b[0m\n\u001b[1;32m      4\u001b[0m \u001b[0;31m#다중 query를 딕셔너리로 분해\u001b[0m\u001b[0;34m\u001b[0m\u001b[0;34m\u001b[0m\u001b[0;34m\u001b[0m\u001b[0m\n\u001b[1;32m      5\u001b[0m \u001b[0;32mdef\u001b[0m \u001b[0mquery_parse\u001b[0m\u001b[0;34m(\u001b[0m\u001b[0mquery\u001b[0m\u001b[0;34m)\u001b[0m\u001b[0;34m:\u001b[0m\u001b[0;34m\u001b[0m\u001b[0;34m\u001b[0m\u001b[0m\n",
            "\u001b[0;31mImportError\u001b[0m: cannot import name 'HTTPSERVER'",
            "",
            "\u001b[0;31m---------------------------------------------------------------------------\u001b[0;32m\nNOTE: If your import is failing due to a missing package, you can\nmanually install dependencies using either !pip or !apt.\n\nTo view examples of installing some common dependencies, click the\n\"Open Examples\" button below.\n\u001b[0;31m---------------------------------------------------------------------------\u001b[0m\n"
          ]
        }
      ]
    },
    {
      "cell_type": "markdown",
      "metadata": {
        "id": "0_m4zsZFk_Jm"
      },
      "source": [
        "6.1 asyncio tkinter, socket 모듈을 활용해서 채팅 서버와 클라이어트 프로그램을 작성하시오 클라이언트 프로그램을 시작하면 자신의 이름을 입력하고 채팅을 시작할수 있어야 합니다. 상대방에게 보내는 메시지 앞에 이름을 추가하여 송신할 수 있는 기능을 만드시오(15점)\r\n",
        "- 다 만들어진 프로그램은 github 올리고 주소를 입력하거나 아니면 보인 드라이브에 올리고 공유주소를 올리면 됩니다. \r\n",
        "- github에 올리고 주소를 올리는 경우 절대값 2점을 추가로 부여합니다. "
      ]
    },
    {
      "cell_type": "code",
      "metadata": {
        "id": "Wp7McW4Xkyw9"
      },
      "source": [
        "import socket\r\n"
      ],
      "execution_count": null,
      "outputs": []
    }
  ]
}